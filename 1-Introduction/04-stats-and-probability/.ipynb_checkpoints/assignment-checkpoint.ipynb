{
 "cells": [
  {
   "cell_type": "markdown",
   "metadata": {},
   "source": [
    "## Introduction to Probability and Statistics\n",
    "## Assignment\n",
    "\n",
    "In this assignment, we will use the dataset of diabetes patients taken [from here](https://www4.stat.ncsu.edu/~boos/var.select/diabetes.html)."
   ]
  },
  {
   "cell_type": "code",
   "execution_count": 7,
   "metadata": {},
   "outputs": [
    {
     "data": {
      "text/html": [
       "<div>\n",
       "<style scoped>\n",
       "    .dataframe tbody tr th:only-of-type {\n",
       "        vertical-align: middle;\n",
       "    }\n",
       "\n",
       "    .dataframe tbody tr th {\n",
       "        vertical-align: top;\n",
       "    }\n",
       "\n",
       "    .dataframe thead th {\n",
       "        text-align: right;\n",
       "    }\n",
       "</style>\n",
       "<table border=\"1\" class=\"dataframe\">\n",
       "  <thead>\n",
       "    <tr style=\"text-align: right;\">\n",
       "      <th></th>\n",
       "      <th>AGE</th>\n",
       "      <th>SEX</th>\n",
       "      <th>BMI</th>\n",
       "      <th>BP</th>\n",
       "      <th>S1</th>\n",
       "      <th>S2</th>\n",
       "      <th>S3</th>\n",
       "      <th>S4</th>\n",
       "      <th>S5</th>\n",
       "      <th>S6</th>\n",
       "      <th>Y</th>\n",
       "    </tr>\n",
       "  </thead>\n",
       "  <tbody>\n",
       "    <tr>\n",
       "      <th>0</th>\n",
       "      <td>59</td>\n",
       "      <td>2</td>\n",
       "      <td>32.1</td>\n",
       "      <td>101.0</td>\n",
       "      <td>157</td>\n",
       "      <td>93.2</td>\n",
       "      <td>38.0</td>\n",
       "      <td>4.0</td>\n",
       "      <td>4.8598</td>\n",
       "      <td>87</td>\n",
       "      <td>151</td>\n",
       "    </tr>\n",
       "    <tr>\n",
       "      <th>1</th>\n",
       "      <td>48</td>\n",
       "      <td>1</td>\n",
       "      <td>21.6</td>\n",
       "      <td>87.0</td>\n",
       "      <td>183</td>\n",
       "      <td>103.2</td>\n",
       "      <td>70.0</td>\n",
       "      <td>3.0</td>\n",
       "      <td>3.8918</td>\n",
       "      <td>69</td>\n",
       "      <td>75</td>\n",
       "    </tr>\n",
       "    <tr>\n",
       "      <th>2</th>\n",
       "      <td>72</td>\n",
       "      <td>2</td>\n",
       "      <td>30.5</td>\n",
       "      <td>93.0</td>\n",
       "      <td>156</td>\n",
       "      <td>93.6</td>\n",
       "      <td>41.0</td>\n",
       "      <td>4.0</td>\n",
       "      <td>4.6728</td>\n",
       "      <td>85</td>\n",
       "      <td>141</td>\n",
       "    </tr>\n",
       "    <tr>\n",
       "      <th>3</th>\n",
       "      <td>24</td>\n",
       "      <td>1</td>\n",
       "      <td>25.3</td>\n",
       "      <td>84.0</td>\n",
       "      <td>198</td>\n",
       "      <td>131.4</td>\n",
       "      <td>40.0</td>\n",
       "      <td>5.0</td>\n",
       "      <td>4.8903</td>\n",
       "      <td>89</td>\n",
       "      <td>206</td>\n",
       "    </tr>\n",
       "    <tr>\n",
       "      <th>4</th>\n",
       "      <td>50</td>\n",
       "      <td>1</td>\n",
       "      <td>23.0</td>\n",
       "      <td>101.0</td>\n",
       "      <td>192</td>\n",
       "      <td>125.4</td>\n",
       "      <td>52.0</td>\n",
       "      <td>4.0</td>\n",
       "      <td>4.2905</td>\n",
       "      <td>80</td>\n",
       "      <td>135</td>\n",
       "    </tr>\n",
       "  </tbody>\n",
       "</table>\n",
       "</div>"
      ],
      "text/plain": [
       "   AGE  SEX   BMI     BP   S1     S2    S3   S4      S5  S6    Y\n",
       "0   59    2  32.1  101.0  157   93.2  38.0  4.0  4.8598  87  151\n",
       "1   48    1  21.6   87.0  183  103.2  70.0  3.0  3.8918  69   75\n",
       "2   72    2  30.5   93.0  156   93.6  41.0  4.0  4.6728  85  141\n",
       "3   24    1  25.3   84.0  198  131.4  40.0  5.0  4.8903  89  206\n",
       "4   50    1  23.0  101.0  192  125.4  52.0  4.0  4.2905  80  135"
      ]
     },
     "execution_count": 7,
     "metadata": {},
     "output_type": "execute_result"
    }
   ],
   "source": [
    "import pandas as pd\n",
    "import numpy as np\n",
    "\n",
    "df = pd.read_csv(\"diabetes.tsv\",sep='\\t')\n",
    "df.head()"
   ]
  },
  {
   "cell_type": "markdown",
   "metadata": {},
   "source": [
    "\n",
    "In this dataset, columns as the following:\n",
    "* Age and sex are self-explanatory\n",
    "* BMI is body mass index\n",
    "* BP is average blood pressure\n",
    "* S1 through S6 are different blood measurements\n",
    "* Y is the qualitative measure of disease progression over one year\n",
    "\n",
    "Let's study this dataset using methods of probability and statistics.\n",
    "\n",
    "### Task 1: Compute mean values and variance for all values"
   ]
  },
  {
   "cell_type": "code",
   "execution_count": 8,
   "metadata": {},
   "outputs": [
    {
     "name": "stdout",
     "output_type": "stream",
     "text": [
      "Mean values:\n",
      "AGE     48.518100\n",
      "SEX      1.468326\n",
      "BMI     26.375792\n",
      "BP      94.647014\n",
      "S1     189.140271\n",
      "S2     115.439140\n",
      "S3      49.788462\n",
      "S4       4.070249\n",
      "S5       4.641411\n",
      "S6      91.260181\n",
      "Y      152.133484\n",
      "dtype: float64\n",
      "\n",
      "Variance values:\n",
      "AGE     171.846610\n",
      "SEX       0.249561\n",
      "BMI      19.519798\n",
      "BP      191.304401\n",
      "S1     1197.717241\n",
      "S2      924.955494\n",
      "S3      167.293585\n",
      "S4        1.665261\n",
      "S5        0.272892\n",
      "S6      132.165712\n",
      "Y      5943.331348\n",
      "dtype: float64\n"
     ]
    }
   ],
   "source": [
    "# Compute mean values for all columns\n",
    "mean_values = df.mean()\n",
    "\n",
    "# Compute variances for all columns\n",
    "variance_values = df.var()\n",
    "\n",
    "# Display mean values\n",
    "print(\"Mean values:\")\n",
    "print(mean_values)\n",
    "\n",
    "# Display variances\n",
    "print(\"\\nVariance values:\")\n",
    "print(variance_values)\n"
   ]
  },
  {
   "cell_type": "markdown",
   "metadata": {},
   "source": [
    "### Task 2: Plot boxplots for BMI, BP and Y depending on gender"
   ]
  },
  {
   "cell_type": "code",
   "execution_count": 12,
   "metadata": {},
   "outputs": [
    {
     "name": "stdout",
     "output_type": "stream",
     "text": [
      "Index(['AGE', 'SEX', 'BMI', 'BP', 'S1', 'S2', 'S3', 'S4', 'S5', 'S6', 'Y'], dtype='object')\n"
     ]
    }
   ],
   "source": [
    "print(df.columns)\n"
   ]
  },
  {
   "cell_type": "code",
   "execution_count": 13,
   "metadata": {},
   "outputs": [
    {
     "data": {
      "image/png": "[encoded data removed]",
      "text/plain": [
       "<Figure size 1000x600 with 4 Axes>"
      ]
     },
     "metadata": {},
     "output_type": "display_data"
    }
   ],
   "source": [
    "import matplotlib.pyplot as plt\n",
    "\n",
    "# Plot boxplots for BMI, BP, and Y depending on gender\n",
    "df.boxplot(column=['BMI', 'BP', 'Y'], by='SEX', figsize=(10, 6))\n",
    "plt.title('Boxplots of BMI, BP, and Y by Gender')\n",
    "plt.xlabel('Gender')\n",
    "plt.ylabel('Value')\n",
    "plt.suptitle('')  # Suppress default title\n",
    "plt.show()\n"
   ]
  },
  {
   "cell_type": "markdown",
   "metadata": {},
   "source": [
    "### Task 3: What is the the distribution of Age, Sex, BMI and Y variables?"
   ]
  },
  {
   "cell_type": "code",
   "execution_count": 14,
   "metadata": {},
   "outputs": [
    {
     "name": "stdout",
     "output_type": "stream",
     "text": [
      "Age Summary Statistics:\n",
      "count    442.000000\n",
      "mean      48.518100\n",
      "std       13.109028\n",
      "min       19.000000\n",
      "25%       38.250000\n",
      "50%       50.000000\n",
      "75%       59.000000\n",
      "max       79.000000\n",
      "Name: AGE, dtype: float64\n"
     ]
    }
   ],
   "source": [
    "# 1. Age Distribution\n",
    "age_summary = df['AGE'].describe()\n",
    "print(\"Age Summary Statistics:\")\n",
    "print(age_summary)"
   ]
  },
  {
   "cell_type": "code",
   "execution_count": 15,
   "metadata": {},
   "outputs": [
    {
     "data": {
      "image/png": "[encoded data removed]",
      "text/plain": [
       "<Figure size 800x600 with 1 Axes>"
      ]
     },
     "metadata": {},
     "output_type": "display_data"
    }
   ],
   "source": [
    "plt.figure(figsize=(8, 6))\n",
    "plt.hist(df['AGE'], bins=20, color='skyblue', edgecolor='black')\n",
    "plt.title('Age Distribution')\n",
    "plt.xlabel('Age')\n",
    "plt.ylabel('Frequency')\n",
    "plt.grid(True)\n",
    "plt.show()"
   ]
  },
  {
   "cell_type": "code",
   "execution_count": 16,
   "metadata": {},
   "outputs": [
    {
     "name": "stdout",
     "output_type": "stream",
     "text": [
      "\n",
      "Sex Distribution:\n",
      "1    235\n",
      "2    207\n",
      "Name: SEX, dtype: int64\n"
     ]
    }
   ],
   "source": [
    "# 2. Sex Distribution\n",
    "sex_counts = df['SEX'].value_counts()\n",
    "print(\"\\nSex Distribution:\")\n",
    "print(sex_counts)"
   ]
  },
  {
   "cell_type": "code",
   "execution_count": 17,
   "metadata": {},
   "outputs": [
    {
     "data": {
      "image/png": "[encoded data removed]",
      "text/plain": [
       "<Figure size 600x400 with 1 Axes>"
      ]
     },
     "metadata": {},
     "output_type": "display_data"
    }
   ],
   "source": [
    "plt.figure(figsize=(6, 4))\n",
    "sex_counts.plot(kind='bar', color=['lightblue', 'lightgreen'])\n",
    "plt.title('Sex Distribution')\n",
    "plt.xlabel('Sex')\n",
    "plt.ylabel('Frequency')\n",
    "plt.xticks(rotation=0)\n",
    "plt.grid(axis='y')\n",
    "plt.show()"
   ]
  },
  {
   "cell_type": "code",
   "execution_count": 18,
   "metadata": {},
   "outputs": [
    {
     "name": "stdout",
     "output_type": "stream",
     "text": [
      "\n",
      "BMI Summary Statistics:\n",
      "count    442.000000\n",
      "mean      26.375792\n",
      "std        4.418122\n",
      "min       18.000000\n",
      "25%       23.200000\n",
      "50%       25.700000\n",
      "75%       29.275000\n",
      "max       42.200000\n",
      "Name: BMI, dtype: float64\n"
     ]
    }
   ],
   "source": [
    "# 3. BMI Distribution\n",
    "bmi_summary = df['BMI'].describe()\n",
    "print(\"\\nBMI Summary Statistics:\")\n",
    "print(bmi_summary)"
   ]
  },
  {
   "cell_type": "code",
   "execution_count": 19,
   "metadata": {},
   "outputs": [
    {
     "data": {
      "image/png": "[encoded data removed]",
      "text/plain": [
       "<Figure size 800x600 with 1 Axes>"
      ]
     },
     "metadata": {},
     "output_type": "display_data"
    }
   ],
   "source": [
    "plt.figure(figsize=(8, 6))\n",
    "plt.hist(df['BMI'], bins=20, color='orange', edgecolor='black')\n",
    "plt.title('BMI Distribution')\n",
    "plt.xlabel('BMI')\n",
    "plt.ylabel('Frequency')\n",
    "plt.grid(True)\n",
    "plt.show()"
   ]
  },
  {
   "cell_type": "code",
   "execution_count": 20,
   "metadata": {},
   "outputs": [
    {
     "name": "stdout",
     "output_type": "stream",
     "text": [
      "\n",
      "Y Summary Statistics:\n",
      "count    442.000000\n",
      "mean     152.133484\n",
      "std       77.093005\n",
      "min       25.000000\n",
      "25%       87.000000\n",
      "50%      140.500000\n",
      "75%      211.500000\n",
      "max      346.000000\n",
      "Name: Y, dtype: float64\n"
     ]
    }
   ],
   "source": [
    "# 4. Y Distribution\n",
    "y_summary = df['Y'].describe()\n",
    "print(\"\\nY Summary Statistics:\")\n",
    "print(y_summary)"
   ]
  },
  {
   "cell_type": "code",
   "execution_count": 21,
   "metadata": {},
   "outputs": [
    {
     "data": {
      "image/png": "[encoded data removed]",
      "text/plain": [
       "<Figure size 800x600 with 1 Axes>"
      ]
     },
     "metadata": {},
     "output_type": "display_data"
    }
   ],
   "source": [
    "plt.figure(figsize=(8, 6))\n",
    "plt.hist(df['Y'], bins=20, color='lightgreen', edgecolor='black')\n",
    "plt.title('Y Distribution')\n",
    "plt.xlabel('Y')\n",
    "plt.ylabel('Frequency')\n",
    "plt.grid(True)\n",
    "plt.show()"
   ]
  },
  {
   "cell_type": "markdown",
   "metadata": {},
   "source": [
    "### Task 4: Test the correlation between different variables and disease progression (Y)\n",
    "\n",
    "> **Hint** Correlation matrix would give you the most useful information on which values are dependent."
   ]
  },
  {
   "cell_type": "code",
   "execution_count": null,
   "metadata": {},
   "outputs": [],
   "source": []
  },
  {
   "cell_type": "markdown",
   "metadata": {},
   "source": []
  },
  {
   "cell_type": "code",
   "execution_count": 22,
   "metadata": {},
   "outputs": [
    {
     "name": "stdout",
     "output_type": "stream",
     "text": [
      "Correlation with Disease Progression (Y):\n",
      "AGE    0.187889\n",
      "SEX    0.043062\n",
      "BMI    0.586450\n",
      "BP     0.441482\n",
      "S1     0.212022\n",
      "S2     0.174054\n",
      "S3    -0.394789\n",
      "S4     0.430453\n",
      "S5     0.565883\n",
      "S6     0.382483\n",
      "Name: Y, dtype: float64\n"
     ]
    }
   ],
   "source": [
    "# Calculate correlation matrix\n",
    "correlation_matrix = df.corr()\n",
    "\n",
    "# Extract correlation of variables with disease progression (Y)\n",
    "correlation_with_y = correlation_matrix['Y'].drop('Y')  # Exclude Y column since we're interested in other variables\n",
    "\n",
    "print(\"Correlation with Disease Progression (Y):\")\n",
    "print(correlation_with_y)\n"
   ]
  },
  {
   "cell_type": "markdown",
   "metadata": {},
   "source": [
    "### Task 5: Test the hypothesis that the degree of diabetes progression is different between men and women"
   ]
  },
  {
   "cell_type": "markdown",
   "metadata": {},
   "source": []
  },
  {
   "cell_type": "code",
   "execution_count": 23,
   "metadata": {},
   "outputs": [
    {
     "name": "stdout",
     "output_type": "stream",
     "text": [
      "Independent Samples t-test Results:\n",
      "t-statistic: -0.9041147550244715\n",
      "p-value: 0.3664292946519826\n",
      "\n",
      "Conclusion: Fail to reject the null hypothesis. There is no statistically significant difference in the degree of diabetes progression between men and women.\n"
     ]
    }
   ],
   "source": [
    "from scipy import stats\n",
    "\n",
    "# Extract diabetes progression (Y) for men and women\n",
    "y_men = df[df['SEX'] == 1]['Y']\n",
    "y_women = df[df['SEX'] == 2]['Y']\n",
    "\n",
    "# Perform independent samples t-test\n",
    "t_statistic, p_value = stats.ttest_ind(y_men, y_women)\n",
    "\n",
    "print(\"Independent Samples t-test Results:\")\n",
    "print(\"t-statistic:\", t_statistic)\n",
    "print(\"p-value:\", p_value)\n",
    "\n",
    "alpha = 0.05  # Significance level\n",
    "if p_value < alpha:\n",
    "    print(\"\\nConclusion: Reject the null hypothesis. There is a statistically significant difference in the degree of diabetes progression between men and women.\")\n",
    "else:\n",
    "    print(\"\\nConclusion: Fail to reject the null hypothesis. There is no statistically significant difference in the degree of diabetes progression between men and women.\")\n"
   ]
  },
  {
   "cell_type": "code",
   "execution_count": null,
   "metadata": {},
   "outputs": [],
   "source": []
  }
 ],
 "metadata": {
  "interpreter": {
   "hash": "86193a1ab0ba47eac1c69c1756090baa3b420b3eea7d4aafab8b85f8b312f0c5"
  },
  "kernelspec": {
   "display_name": "Python 3 (ipykernel)",
   "language": "python",
   "name": "python3"
  },
  "language_info": {
   "codemirror_mode": {
    "name": "ipython",
    "version": 3
   },
   "file_extension": ".py",
   "mimetype": "text/x-python",
   "name": "python",
   "nbconvert_exporter": "python",
   "pygments_lexer": "ipython3",
   "version": "3.11.4"
  }
 },
 "nbformat": 4,
 "nbformat_minor": 2
}
