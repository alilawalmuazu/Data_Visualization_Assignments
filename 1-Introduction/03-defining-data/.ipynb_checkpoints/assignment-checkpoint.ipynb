{
 "cells": [
  {
   "cell_type": "markdown",
   "id": "785962ef",
   "metadata": {},
   "source": [
    "Instructions\n",
    "Follow the prompts in this assignment to identify and classify the data with one of each of the following data types:\n",
    "\n",
    "Structure Types: Structured, Semi-Structured, or Unstructured\n",
    "\n",
    "Value Types: Qualitative or Quantitative\n",
    "\n",
    "Source Types: Primary or Secondary\n",
    "\n",
    "A company has been acquired and now has a parent company. The data scientists have received a spreadsheet of customer phone numbers from the parent company.\n",
    "Structure Type:\n",
    "\n",
    "Value Type:\n",
    "\n",
    "Source Type:"
   ]
  },
  {
   "cell_type": "code",
   "execution_count": null,
   "id": "7813867c",
   "metadata": {},
   "outputs": [],
   "source": [
    "#Answer\n"
   ]
  },
  {
   "cell_type": "markdown",
   "id": "10cf91cf",
   "metadata": {},
   "source": [
    "Structure Type: Semi-Structured\n",
    "\n",
    "Value Type: Quantitative\n",
    "\n",
    "Source Type: Secondary"
   ]
  },
  {
   "cell_type": "markdown",
   "id": "eed57710",
   "metadata": {},
   "source": [
    "A smart watch has been collecting heart rate data from its wearer, and the raw data is in JSON format.\n",
    "Structure Type:\n",
    "\n",
    "Value Type:\n",
    "\n",
    "Source Type:\n",
    "\n"
   ]
  },
  {
   "cell_type": "code",
   "execution_count": null,
   "id": "9faaa1c8",
   "metadata": {},
   "outputs": [],
   "source": [
    "#Answer"
   ]
  },
  {
   "cell_type": "markdown",
   "id": "e59aa06d",
   "metadata": {},
   "source": [
    "Structure Type: Semi-Structured\n",
    "\n",
    "Value Type: Quantitative\n",
    "\n",
    "Source Type: Primary"
   ]
  },
  {
   "cell_type": "markdown",
   "id": "ece5a306",
   "metadata": {},
   "source": [
    "3.A workplace survey of employee morale that is stored in a CSV file.\n",
    "Structure Type:\n",
    "\n",
    "Value Type:\n",
    "\n",
    "Source Type:"
   ]
  },
  {
   "cell_type": "code",
   "execution_count": null,
   "id": "619f8994",
   "metadata": {},
   "outputs": [],
   "source": [
    "#Answer"
   ]
  },
  {
   "cell_type": "markdown",
   "id": "22937fa8",
   "metadata": {},
   "source": [
    "Structure Type: Structured\n",
    "\n",
    "Value Type: Qualitative\n",
    "\n",
    "Source Type: Secondary"
   ]
  },
  {
   "cell_type": "markdown",
   "id": "e5d5e907",
   "metadata": {},
   "source": [
    "4.Astrophysicists are accessing a database of galaxies that has been collected by a space probe. The data contains the number of planets within in each galaxy.\n",
    "Structure Type:\n",
    "\n",
    "Value Type:\n",
    "\n",
    "Source Type:"
   ]
  },
  {
   "cell_type": "code",
   "execution_count": null,
   "id": "b3ea176a",
   "metadata": {},
   "outputs": [],
   "source": [
    "#Answer"
   ]
  },
  {
   "cell_type": "markdown",
   "id": "4a5ca6c4",
   "metadata": {},
   "source": [
    "Structure Type: Structured\n",
    "\n",
    "Value Type: Quantitative\n",
    "\n",
    "Source Type: Secondary"
   ]
  },
  {
   "cell_type": "markdown",
   "id": "83542443",
   "metadata": {},
   "source": [
    "5.A personal finance app uses APIs to connect to a user's financial accounts in order to calculate their net worth. They can see all of their transactions in a format of rows and columns and looks similar to a spreadsheet.\n",
    "Structure Type:\n",
    "\n",
    "Value Type:\n",
    "\n",
    "Source Type:"
   ]
  },
  {
   "cell_type": "code",
   "execution_count": null,
   "id": "766c4f0c",
   "metadata": {},
   "outputs": [],
   "source": [
    "#Answer"
   ]
  },
  {
   "cell_type": "markdown",
   "id": "2493e8f3",
   "metadata": {},
   "source": [
    "Structure Type: Structured\n",
    "\n",
    "Value Type: Quantitative\n",
    "\n",
    "Source Type: Secondary"
   ]
  }
 ],
 "metadata": {
  "kernelspec": {
   "display_name": "Python 3 (ipykernel)",
   "language": "python",
   "name": "python3"
  },
  "language_info": {
   "codemirror_mode": {
    "name": "ipython",
    "version": 3
   },
   "file_extension": ".py",
   "mimetype": "text/x-python",
   "name": "python",
   "nbconvert_exporter": "python",
   "pygments_lexer": "ipython3",
   "version": "3.11.4"
  }
 },
 "nbformat": 4,
 "nbformat_minor": 5
}
