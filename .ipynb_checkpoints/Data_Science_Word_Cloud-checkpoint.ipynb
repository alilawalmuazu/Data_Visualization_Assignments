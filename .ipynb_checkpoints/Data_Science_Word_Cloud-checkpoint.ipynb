{
 "cells": [
  {
   "cell_type": "code",
   "execution_count": null,
   "id": "4f431ec3",
   "metadata": {},
   "outputs": [],
   "source": [
    "url = 'https://en.wikipedia.org/wiki/Data_science'"
   ]
  },
  {
   "cell_type": "code",
   "execution_count": null,
   "id": "2c1b6724",
   "metadata": {},
   "outputs": [],
   "source": [
    "import requests\n",
    "\n",
    "\n",
    "\n",
    "text = requests.get(url).content.decode('utf-8')\n",
    "\n",
    "print(text[:1000])"
   ]
  },
  {
   "cell_type": "code",
   "execution_count": null,
   "id": "d23cd59e",
   "metadata": {},
   "outputs": [],
   "source": [
    "from html.parser import HTMLParser\n",
    "\n",
    "\n",
    "\n",
    "class MyHTMLParser(HTMLParser):\n",
    "\n",
    "    script = False\n",
    "\n",
    "    res = \"\"\n",
    "\n",
    "    def handle_starttag(self, tag, attrs):\n",
    "\n",
    "        if tag.lower() in [\"script\",\"style\"]:\n",
    "\n",
    "            self.script = True\n",
    "\n",
    "    def handle_endtag(self, tag):\n",
    "\n",
    "        if tag.lower() in [\"script\",\"style\"]:\n",
    "\n",
    "            self.script = False\n",
    "\n",
    "    def handle_data(self, data):\n",
    "\n",
    "        if str.strip(data)==\"\" or self.script:\n",
    "\n",
    "            return\n",
    "\n",
    "        self.res += ' '+data.replace('[ edit ]','')\n",
    "\n",
    "\n",
    "\n",
    "parser = MyHTMLParser()\n",
    "\n",
    "parser.feed(text)\n",
    "\n",
    "text = parser.res\n",
    "\n",
    "print(text[:1000])"
   ]
  },
  {
   "cell_type": "code",
   "execution_count": null,
   "id": "97fed19b",
   "metadata": {},
   "outputs": [],
   "source": [
    "import sys\n",
    "\n",
    "!{sys.executable} -m pip install nlp_rake"
   ]
  },
  {
   "cell_type": "code",
   "execution_count": null,
   "id": "24858fe1",
   "metadata": {},
   "outputs": [],
   "source": [
    "import nlp_rake\n",
    "\n",
    "extractor = nlp_rake.Rake(max_words=2,min_freq=3,min_chars=5)\n",
    "\n",
    "res = extractor.apply(text)\n",
    "\n",
    "res"
   ]
  },
  {
   "cell_type": "code",
   "execution_count": null,
   "id": "ea0fe2c3",
   "metadata": {},
   "outputs": [],
   "source": [
    "import matplotlib.pyplot as plt\n",
    "\n",
    "\n",
    "\n",
    "def plot(pair_list):\n",
    "\n",
    "    k,v = zip(*pair_list)\n",
    "\n",
    "    plt.bar(range(len(k)),v)\n",
    "\n",
    "    plt.xticks(range(len(k)),k,rotation='vertical')\n",
    "\n",
    "    plt.show()\n",
    "\n",
    "\n",
    "\n",
    "plot(res)"
   ]
  },
  {
   "cell_type": "code",
   "execution_count": null,
   "id": "b5b2a7a6",
   "metadata": {},
   "outputs": [],
   "source": [
    "!{sys.executable} -m pip install wordcloud"
   ]
  },
  {
   "cell_type": "code",
   "execution_count": null,
   "id": "74b8c75f",
   "metadata": {},
   "outputs": [],
   "source": [
    "from wordcloud import WordCloud\n",
    "\n",
    "import matplotlib.pyplot as plt\n",
    "\n",
    "\n",
    "\n",
    "wc = WordCloud(background_color='white',width=800,height=600)\n",
    "\n",
    "plt.figure(figsize=(15,7))\n",
    "\n",
    "plt.imshow(wc.generate_from_frequencies({ k:v for k,v in res }))"
   ]
  },
  {
   "cell_type": "code",
   "execution_count": null,
   "id": "a3ec0534",
   "metadata": {},
   "outputs": [],
   "source": [
    "plt.figure(figsize=(15,7))\n",
    "\n",
    "plt.imshow(wc.generate(text))"
   ]
  },
  {
   "cell_type": "code",
   "execution_count": null,
   "id": "0449905e",
   "metadata": {},
   "outputs": [],
   "source": [
    "wc.generate(text).to_file('images/ds_wordcloud.png')"
   ]
  }
 ],
 "metadata": {
  "kernelspec": {
   "display_name": "Python 3 (ipykernel)",
   "language": "python",
   "name": "python3"
  },
  "language_info": {
   "codemirror_mode": {
    "name": "ipython",
    "version": 3
   },
   "file_extension": ".py",
   "mimetype": "text/x-python",
   "name": "python",
   "nbconvert_exporter": "python",
   "pygments_lexer": "ipython3",
   "version": "3.11.4"
  }
 },
 "nbformat": 4,
 "nbformat_minor": 5
}
