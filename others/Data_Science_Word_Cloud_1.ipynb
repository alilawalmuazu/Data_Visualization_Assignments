{
 "cells": [
  {
   "cell_type": "code",
   "execution_count": 25,
   "id": "a220629c",
   "metadata": {},
   "outputs": [],
   "source": [
    "import requests\n",
    "from html.parser import HTMLParser\n",
    "from nltk.tokenize import word_tokenize\n",
    "from nltk.corpus import stopwords\n",
    "import string"
   ]
  },
  {
   "cell_type": "code",
   "execution_count": 26,
   "id": "c906734a",
   "metadata": {},
   "outputs": [
    {
     "name": "stdout",
     "output_type": "stream",
     "text": [
      "Defaulting to user installation because normal site-packages is not writeable\n",
      "Requirement already satisfied: nltk in c:\\programdata\\anaconda3\\lib\\site-packages (3.8.1)\n",
      "Requirement already satisfied: click in c:\\programdata\\anaconda3\\lib\\site-packages (from nltk) (8.0.4)\n",
      "Requirement already satisfied: joblib in c:\\programdata\\anaconda3\\lib\\site-packages (from nltk) (1.2.0)\n",
      "Requirement already satisfied: regex>=2021.8.3 in c:\\programdata\\anaconda3\\lib\\site-packages (from nltk) (2022.7.9)\n",
      "Requirement already satisfied: tqdm in c:\\programdata\\anaconda3\\lib\\site-packages (from nltk) (4.65.0)\n",
      "Requirement already satisfied: colorama in c:\\programdata\\anaconda3\\lib\\site-packages (from click->nltk) (0.4.6)\n"
     ]
    }
   ],
   "source": [
    "import sys\n",
    "!{sys.executable} -m pip install nltk"
   ]
  },
  {
   "cell_type": "code",
   "execution_count": 27,
   "id": "e6956ea5",
   "metadata": {},
   "outputs": [
    {
     "name": "stderr",
     "output_type": "stream",
     "text": [
      "[nltk_data] Downloading package stopwords to\n",
      "[nltk_data]     C:\\Users\\Dell\\AppData\\Roaming\\nltk_data...\n",
      "[nltk_data]   Package stopwords is already up-to-date!\n"
     ]
    },
    {
     "data": {
      "text/plain": [
       "True"
      ]
     },
     "execution_count": 27,
     "metadata": {},
     "output_type": "execute_result"
    }
   ],
   "source": [
    "import nltk\n",
    "nltk.download('stopwords')"
   ]
  },
  {
   "cell_type": "code",
   "execution_count": 12,
   "id": "b951c169",
   "metadata": {},
   "outputs": [
    {
     "name": "stdout",
     "output_type": "stream",
     "text": [
      "Defaulting to user installation because normal site-packages is not writeable\n",
      "Collecting wordcloud\n",
      "  Obtaining dependency information for wordcloud from https://files.pythonhosted.org/packages/f5/b0/247159f61c5d5d6647171bef84430b7efad4db504f0229674024f3a4f7f2/wordcloud-1.9.3-cp311-cp311-win_amd64.whl.metadata\n",
      "  Downloading wordcloud-1.9.3-cp311-cp311-win_amd64.whl.metadata (3.5 kB)\n",
      "Requirement already satisfied: numpy>=1.6.1 in c:\\programdata\\anaconda3\\lib\\site-packages (from wordcloud) (1.24.3)\n",
      "Requirement already satisfied: pillow in c:\\programdata\\anaconda3\\lib\\site-packages (from wordcloud) (9.4.0)\n",
      "Requirement already satisfied: matplotlib in c:\\programdata\\anaconda3\\lib\\site-packages (from wordcloud) (3.7.1)\n",
      "Requirement already satisfied: contourpy>=1.0.1 in c:\\programdata\\anaconda3\\lib\\site-packages (from matplotlib->wordcloud) (1.0.5)\n",
      "Requirement already satisfied: cycler>=0.10 in c:\\programdata\\anaconda3\\lib\\site-packages (from matplotlib->wordcloud) (0.11.0)\n",
      "Requirement already satisfied: fonttools>=4.22.0 in c:\\programdata\\anaconda3\\lib\\site-packages (from matplotlib->wordcloud) (4.25.0)\n",
      "Requirement already satisfied: kiwisolver>=1.0.1 in c:\\programdata\\anaconda3\\lib\\site-packages (from matplotlib->wordcloud) (1.4.4)\n",
      "Requirement already satisfied: packaging>=20.0 in c:\\programdata\\anaconda3\\lib\\site-packages (from matplotlib->wordcloud) (23.0)\n",
      "Requirement already satisfied: pyparsing>=2.3.1 in c:\\programdata\\anaconda3\\lib\\site-packages (from matplotlib->wordcloud) (3.0.9)\n",
      "Requirement already satisfied: python-dateutil>=2.7 in c:\\programdata\\anaconda3\\lib\\site-packages (from matplotlib->wordcloud) (2.8.2)\n",
      "Requirement already satisfied: six>=1.5 in c:\\programdata\\anaconda3\\lib\\site-packages (from python-dateutil>=2.7->matplotlib->wordcloud) (1.16.0)\n",
      "Downloading wordcloud-1.9.3-cp311-cp311-win_amd64.whl (300 kB)\n",
      "   ---------------------------------------- 0.0/300.2 kB ? eta -:--:--\n",
      "   - -------------------------------------- 10.2/300.2 kB ? eta -:--:--\n",
      "   --- ----------------------------------- 30.7/300.2 kB 660.6 kB/s eta 0:00:01\n",
      "   --- ----------------------------------- 30.7/300.2 kB 660.6 kB/s eta 0:00:01\n",
      "   --- ----------------------------------- 30.7/300.2 kB 660.6 kB/s eta 0:00:01\n",
      "   --- ----------------------------------- 30.7/300.2 kB 660.6 kB/s eta 0:00:01\n",
      "   --- ----------------------------------- 30.7/300.2 kB 660.6 kB/s eta 0:00:01\n",
      "   --- ----------------------------------- 30.7/300.2 kB 660.6 kB/s eta 0:00:01\n",
      "   --- ----------------------------------- 30.7/300.2 kB 660.6 kB/s eta 0:00:01\n",
      "   --- ----------------------------------- 30.7/300.2 kB 660.6 kB/s eta 0:00:01\n",
      "   --- ----------------------------------- 30.7/300.2 kB 660.6 kB/s eta 0:00:01\n",
      "   --- ----------------------------------- 30.7/300.2 kB 660.6 kB/s eta 0:00:01\n",
      "   --- ----------------------------------- 30.7/300.2 kB 660.6 kB/s eta 0:00:01\n",
      "   --- ----------------------------------- 30.7/300.2 kB 660.6 kB/s eta 0:00:01\n",
      "   --- ----------------------------------- 30.7/300.2 kB 660.6 kB/s eta 0:00:01\n",
      "   --- ----------------------------------- 30.7/300.2 kB 660.6 kB/s eta 0:00:01\n",
      "   --- ----------------------------------- 30.7/300.2 kB 660.6 kB/s eta 0:00:01\n",
      "   --- ----------------------------------- 30.7/300.2 kB 660.6 kB/s eta 0:00:01\n",
      "   --- ----------------------------------- 30.7/300.2 kB 660.6 kB/s eta 0:00:01\n",
      "   --- ----------------------------------- 30.7/300.2 kB 660.6 kB/s eta 0:00:01\n",
      "   --- ----------------------------------- 30.7/300.2 kB 660.6 kB/s eta 0:00:01\n",
      "   --- ----------------------------------- 30.7/300.2 kB 660.6 kB/s eta 0:00:01\n",
      "   --- ----------------------------------- 30.7/300.2 kB 660.6 kB/s eta 0:00:01\n",
      "   --- ----------------------------------- 30.7/300.2 kB 660.6 kB/s eta 0:00:01\n",
      "   --- ----------------------------------- 30.7/300.2 kB 660.6 kB/s eta 0:00:01\n",
      "   --- ----------------------------------- 30.7/300.2 kB 660.6 kB/s eta 0:00:01\n",
      "   --- ----------------------------------- 30.7/300.2 kB 660.6 kB/s eta 0:00:01\n",
      "   --- ----------------------------------- 30.7/300.2 kB 660.6 kB/s eta 0:00:01\n",
      "   --- ----------------------------------- 30.7/300.2 kB 660.6 kB/s eta 0:00:01\n",
      "   --- ----------------------------------- 30.7/300.2 kB 660.6 kB/s eta 0:00:01\n",
      "   --- ----------------------------------- 30.7/300.2 kB 660.6 kB/s eta 0:00:01\n",
      "   --- ----------------------------------- 30.7/300.2 kB 660.6 kB/s eta 0:00:01\n",
      "   --- ----------------------------------- 30.7/300.2 kB 660.6 kB/s eta 0:00:01\n",
      "   --- ----------------------------------- 30.7/300.2 kB 660.6 kB/s eta 0:00:01\n",
      "   --- ----------------------------------- 30.7/300.2 kB 660.6 kB/s eta 0:00:01\n",
      "   --- ----------------------------------- 30.7/300.2 kB 660.6 kB/s eta 0:00:01\n",
      "   --- ----------------------------------- 30.7/300.2 kB 660.6 kB/s eta 0:00:01\n",
      "   --- ----------------------------------- 30.7/300.2 kB 660.6 kB/s eta 0:00:01\n",
      "   --- ----------------------------------- 30.7/300.2 kB 660.6 kB/s eta 0:00:01\n",
      "   --- ----------------------------------- 30.7/300.2 kB 660.6 kB/s eta 0:00:01\n",
      "   --- ----------------------------------- 30.7/300.2 kB 660.6 kB/s eta 0:00:01\n",
      "   --- ----------------------------------- 30.7/300.2 kB 660.6 kB/s eta 0:00:01\n",
      "   --- ----------------------------------- 30.7/300.2 kB 660.6 kB/s eta 0:00:01\n",
      "   --- ----------------------------------- 30.7/300.2 kB 660.6 kB/s eta 0:00:01\n",
      "   --- ----------------------------------- 30.7/300.2 kB 660.6 kB/s eta 0:00:01\n",
      "   --- ----------------------------------- 30.7/300.2 kB 660.6 kB/s eta 0:00:01\n",
      "   --- ----------------------------------- 30.7/300.2 kB 660.6 kB/s eta 0:00:01\n",
      "   ----- ---------------------------------- 41.0/300.2 kB 14.5 kB/s eta 0:00:18\n",
      "   ----- ---------------------------------- 41.0/300.2 kB 14.5 kB/s eta 0:00:18\n",
      "   ----- ---------------------------------- 41.0/300.2 kB 14.5 kB/s eta 0:00:18\n",
      "   -------- ------------------------------- 61.4/300.2 kB 22.6 kB/s eta 0:00:11\n",
      "   -------- ------------------------------- 61.4/300.2 kB 22.6 kB/s eta 0:00:11\n",
      "   -------- ------------------------------- 61.4/300.2 kB 22.6 kB/s eta 0:00:11\n",
      "   -------- ------------------------------- 61.4/300.2 kB 22.6 kB/s eta 0:00:11\n",
      "   -------- ------------------------------- 61.4/300.2 kB 22.6 kB/s eta 0:00:11\n",
      "   -------- ------------------------------- 61.4/300.2 kB 22.6 kB/s eta 0:00:11\n",
      "   -------- ------------------------------- 61.4/300.2 kB 22.6 kB/s eta 0:00:11\n",
      "   -------- ------------------------------- 61.4/300.2 kB 22.6 kB/s eta 0:00:11\n",
      "   -------- ------------------------------- 61.4/300.2 kB 22.6 kB/s eta 0:00:11\n",
      "   -------- ------------------------------- 61.4/300.2 kB 22.6 kB/s eta 0:00:11\n",
      "   -------- ------------------------------- 61.4/300.2 kB 22.6 kB/s eta 0:00:11\n",
      "   -------- ------------------------------- 61.4/300.2 kB 22.6 kB/s eta 0:00:11\n",
      "   -------- ------------------------------- 61.4/300.2 kB 22.6 kB/s eta 0:00:11\n",
      "   ------------ --------------------------- 92.2/300.2 kB 29.0 kB/s eta 0:00:08\n",
      "   ------------ --------------------------- 92.2/300.2 kB 29.0 kB/s eta 0:00:08\n",
      "   ------------ --------------------------- 92.2/300.2 kB 29.0 kB/s eta 0:00:08\n",
      "   ------------ --------------------------- 92.2/300.2 kB 29.0 kB/s eta 0:00:08\n",
      "   ------------ --------------------------- 92.2/300.2 kB 29.0 kB/s eta 0:00:08\n",
      "   --------------- ----------------------- 122.9/300.2 kB 36.6 kB/s eta 0:00:05\n",
      "   --------------- ----------------------- 122.9/300.2 kB 36.6 kB/s eta 0:00:05\n",
      "   --------------- ----------------------- 122.9/300.2 kB 36.6 kB/s eta 0:00:05\n",
      "   --------------- ----------------------- 122.9/300.2 kB 36.6 kB/s eta 0:00:05\n",
      "   ------------------- ------------------- 153.6/300.2 kB 44.3 kB/s eta 0:00:04\n",
      "   -------------------------- ------------ 204.8/300.2 kB 59.3 kB/s eta 0:00:02\n",
      "   -------------------------- ------------ 204.8/300.2 kB 59.3 kB/s eta 0:00:02\n",
      "   -------------------------- ------------ 204.8/300.2 kB 59.3 kB/s eta 0:00:02\n",
      "   -------------------------- ------------ 204.8/300.2 kB 59.3 kB/s eta 0:00:02\n",
      "   -------------------------- ------------ 204.8/300.2 kB 59.3 kB/s eta 0:00:02\n",
      "   -------------------------- ------------ 204.8/300.2 kB 59.3 kB/s eta 0:00:02\n",
      "   -------------------------- ------------ 204.8/300.2 kB 59.3 kB/s eta 0:00:02\n",
      "   -------------------------- ------------ 204.8/300.2 kB 59.3 kB/s eta 0:00:02\n",
      "   -------------------------- ------------ 204.8/300.2 kB 59.3 kB/s eta 0:00:02\n",
      "   -------------------------- ------------ 204.8/300.2 kB 59.3 kB/s eta 0:00:02\n",
      "   -------------------------- ------------ 204.8/300.2 kB 59.3 kB/s eta 0:00:02\n",
      "   -------------------------- ------------ 204.8/300.2 kB 59.3 kB/s eta 0:00:02\n",
      "   -------------------------- ------------ 204.8/300.2 kB 59.3 kB/s eta 0:00:02\n",
      "   -------------------------- ------------ 204.8/300.2 kB 59.3 kB/s eta 0:00:02\n",
      "   -------------------------- ------------ 204.8/300.2 kB 59.3 kB/s eta 0:00:02\n",
      "   -------------------------- ------------ 204.8/300.2 kB 59.3 kB/s eta 0:00:02\n",
      "   -------------------------- ------------ 204.8/300.2 kB 59.3 kB/s eta 0:00:02\n",
      "   --------------------------------------  297.0/300.2 kB 70.3 kB/s eta 0:00:01\n",
      "   --------------------------------------- 300.2/300.2 kB 70.8 kB/s eta 0:00:00\n",
      "Installing collected packages: wordcloud\n",
      "Successfully installed wordcloud-1.9.3\n"
     ]
    },
    {
     "name": "stderr",
     "output_type": "stream",
     "text": [
      "  WARNING: The script wordcloud_cli.exe is installed in 'C:\\Users\\Dell\\AppData\\Roaming\\Python\\Python311\\Scripts' which is not on PATH.\n",
      "  Consider adding this directory to PATH or, if you prefer to suppress this warning, use --no-warn-script-location.\n"
     ]
    }
   ],
   "source": [
    "!{sys.executable} -m pip install wordcloud\n"
   ]
  },
  {
   "cell_type": "code",
   "execution_count": 28,
   "id": "a93073b3",
   "metadata": {},
   "outputs": [],
   "source": [
    "from nltk.corpus import stopwords\n",
    "from nltk.tokenize import word_tokenize\n"
   ]
  },
  {
   "cell_type": "code",
   "execution_count": 29,
   "id": "43d75831",
   "metadata": {},
   "outputs": [],
   "source": [
    "\n",
    "import matplotlib.pyplot as plt\n",
    "from wordcloud import WordCloud\n"
   ]
  },
  {
   "cell_type": "code",
   "execution_count": 30,
   "id": "9767c5bf",
   "metadata": {},
   "outputs": [],
   "source": [
    "url = 'https://en.wikipedia.org/wiki/Data_science'"
   ]
  },
  {
   "cell_type": "code",
   "execution_count": 31,
   "id": "119cc7de",
   "metadata": {},
   "outputs": [],
   "source": [
    "text = requests.get(url).content.decode('utf-8')"
   ]
  },
  {
   "cell_type": "code",
   "execution_count": 32,
   "id": "28666aa2",
   "metadata": {},
   "outputs": [],
   "source": [
    "class MyHTMLParser(HTMLParser):\n",
    "    script = False\n",
    "    res = \"\"\n",
    "    \n",
    "    def handle_starttag(self, tag, attrs):\n",
    "        if tag.lower() in [\"script\", \"style\"]:\n",
    "            self.script = True\n",
    "    \n",
    "    def handle_endtag(self, tag):\n",
    "        if tag.lower() in [\"script\", \"style\"]:\n",
    "            self.script = False\n",
    "    \n",
    "    def handle_data(self, data):\n",
    "        if str.strip(data) == \"\" or self.script:\n",
    "            return\n",
    "        self.res += ' ' + data.replace('[ edit ]', '')\n",
    "\n",
    "parser = MyHTMLParser()\n",
    "parser.feed(text)\n",
    "text = parser.res"
   ]
  },
  {
   "cell_type": "code",
   "execution_count": 33,
   "id": "669dbed7",
   "metadata": {},
   "outputs": [
    {
     "name": "stderr",
     "output_type": "stream",
     "text": [
      "[nltk_data] Downloading package punkt to\n",
      "[nltk_data]     C:\\Users\\Dell\\AppData\\Roaming\\nltk_data...\n",
      "[nltk_data]   Package punkt is already up-to-date!\n"
     ]
    },
    {
     "data": {
      "text/plain": [
       "True"
      ]
     },
     "execution_count": 33,
     "metadata": {},
     "output_type": "execute_result"
    }
   ],
   "source": [
    "import nltk\n",
    "\n",
    "# Download the punkt tokenizer models\n",
    "nltk.download('punkt')"
   ]
  },
  {
   "cell_type": "code",
   "execution_count": 34,
   "id": "cfe36cef",
   "metadata": {},
   "outputs": [],
   "source": [
    "from nltk.tokenize import word_tokenize\n",
    "\n",
    "# Tokenize the text\n",
    "word_tokens = word_tokenize(text)"
   ]
  },
  {
   "cell_type": "code",
   "execution_count": 38,
   "id": "83a46aef",
   "metadata": {},
   "outputs": [],
   "source": [
    "# Tokenize the text and remove stopwords and punctuation\n",
    "stop_words = set(stopwords.words('english'))\n",
    "punctuation = set(string.punctuation)\n",
    "word_tokens = word_tokenize(text)\n",
    "filtered_words = [word.lower() for word in word_tokens if word.lower() not in stop_words and word.lower() not in punctuation]\n",
    "text = ' '.join(filtered_words)"
   ]
  },
  {
   "cell_type": "code",
   "execution_count": 44,
   "id": "29c6cba4",
   "metadata": {},
   "outputs": [
    {
     "name": "stdout",
     "output_type": "stream",
     "text": [
      "Defaulting to user installation because normal site-packages is not writeable\n",
      "Collecting nlp_rake\n",
      "  Using cached nlp_rake-0.0.2-py3-none-any.whl (30 kB)\n",
      "Collecting langdetect>=1.0.8 (from nlp_rake)\n",
      "  Using cached langdetect-1.0.9.tar.gz (981 kB)\n",
      "  Preparing metadata (setup.py): started\n",
      "  Preparing metadata (setup.py): finished with status 'done'\n",
      "Requirement already satisfied: numpy>=1.14.4 in c:\\programdata\\anaconda3\\lib\\site-packages (from nlp_rake) (1.24.3)\n",
      "Requirement already satisfied: pyrsistent>=0.14.2 in c:\\programdata\\anaconda3\\lib\\site-packages (from nlp_rake) (0.18.0)\n",
      "Requirement already satisfied: regex>=2018.6.6 in c:\\programdata\\anaconda3\\lib\\site-packages (from nlp_rake) (2022.7.9)\n",
      "Requirement already satisfied: six in c:\\programdata\\anaconda3\\lib\\site-packages (from langdetect>=1.0.8->nlp_rake) (1.16.0)\n",
      "Building wheels for collected packages: langdetect\n",
      "  Building wheel for langdetect (setup.py): started\n",
      "  Building wheel for langdetect (setup.py): finished with status 'done'\n",
      "  Created wheel for langdetect: filename=langdetect-1.0.9-py3-none-any.whl size=993253 sha256=c0577604612aa8a69bec09e010744fdb84a6113f00004f828c0100a402bb3a72\n",
      "  Stored in directory: c:\\users\\dell\\appdata\\local\\pip\\cache\\wheels\\0a\\f2\\b2\\e5ca405801e05eb7c8ed5b3b4bcf1fcabcd6272c167640072e\n",
      "Successfully built langdetect\n",
      "Installing collected packages: langdetect, nlp_rake\n",
      "Successfully installed langdetect-1.0.9 nlp_rake-0.0.2\n"
     ]
    }
   ],
   "source": [
    "!{sys.executable} -m pip install nlp_rake\n"
   ]
  },
  {
   "cell_type": "code",
   "execution_count": 46,
   "id": "de76cdad",
   "metadata": {},
   "outputs": [
    {
     "ename": "NameError",
     "evalue": "name 'nlp_rake' is not defined",
     "output_type": "error",
     "traceback": [
      "\u001b[1;31m---------------------------------------------------------------------------\u001b[0m",
      "\u001b[1;31mNameError\u001b[0m                                 Traceback (most recent call last)",
      "Cell \u001b[1;32mIn[46], line 1\u001b[0m\n\u001b[1;32m----> 1\u001b[0m extractor \u001b[38;5;241m=\u001b[39m nlp_rake\u001b[38;5;241m.\u001b[39mRake(max_words\u001b[38;5;241m=\u001b[39m\u001b[38;5;241m2\u001b[39m, min_freq\u001b[38;5;241m=\u001b[39m\u001b[38;5;241m3\u001b[39m, min_chars\u001b[38;5;241m=\u001b[39m\u001b[38;5;241m5\u001b[39m)\n\u001b[0;32m      2\u001b[0m res \u001b[38;5;241m=\u001b[39m extractor\u001b[38;5;241m.\u001b[39mapply(text)\n",
      "\u001b[1;31mNameError\u001b[0m: name 'nlp_rake' is not defined"
     ]
    }
   ],
   "source": [
    "extractor = nlp_rake.Rake(max_words=2, min_freq=3, min_chars=5)\n",
    "res = extractor.apply(text)\n"
   ]
  },
  {
   "cell_type": "code",
   "execution_count": 47,
   "id": "5c11bb19",
   "metadata": {},
   "outputs": [
    {
     "ename": "NameError",
     "evalue": "name 'res' is not defined",
     "output_type": "error",
     "traceback": [
      "\u001b[1;31m---------------------------------------------------------------------------\u001b[0m",
      "\u001b[1;31mNameError\u001b[0m                                 Traceback (most recent call last)",
      "Cell \u001b[1;32mIn[47], line 7\u001b[0m\n\u001b[0;32m      4\u001b[0m     plt\u001b[38;5;241m.\u001b[39mxticks(\u001b[38;5;28mrange\u001b[39m(\u001b[38;5;28mlen\u001b[39m(k)), k, rotation\u001b[38;5;241m=\u001b[39m\u001b[38;5;124m'\u001b[39m\u001b[38;5;124mvertical\u001b[39m\u001b[38;5;124m'\u001b[39m)\n\u001b[0;32m      5\u001b[0m     plt\u001b[38;5;241m.\u001b[39mshow()\n\u001b[1;32m----> 7\u001b[0m plot(res)\n",
      "\u001b[1;31mNameError\u001b[0m: name 'res' is not defined"
     ]
    }
   ],
   "source": [
    "def plot(pair_list):\n",
    "    k, v = zip(*pair_list)\n",
    "    plt.bar(range(len(k)), v)\n",
    "    plt.xticks(range(len(k)), k, rotation='vertical')\n",
    "    plt.show()\n",
    "\n",
    "plot(res)"
   ]
  },
  {
   "cell_type": "code",
   "execution_count": 48,
   "id": "bc6dfe46",
   "metadata": {},
   "outputs": [
    {
     "ename": "NameError",
     "evalue": "name 'res' is not defined",
     "output_type": "error",
     "traceback": [
      "\u001b[1;31m---------------------------------------------------------------------------\u001b[0m",
      "\u001b[1;31mNameError\u001b[0m                                 Traceback (most recent call last)",
      "Cell \u001b[1;32mIn[48], line 3\u001b[0m\n\u001b[0;32m      1\u001b[0m wc \u001b[38;5;241m=\u001b[39m WordCloud(background_color\u001b[38;5;241m=\u001b[39m\u001b[38;5;124m'\u001b[39m\u001b[38;5;124mwhite\u001b[39m\u001b[38;5;124m'\u001b[39m, width\u001b[38;5;241m=\u001b[39m\u001b[38;5;241m800\u001b[39m, height\u001b[38;5;241m=\u001b[39m\u001b[38;5;241m600\u001b[39m)\n\u001b[0;32m      2\u001b[0m plt\u001b[38;5;241m.\u001b[39mfigure(figsize\u001b[38;5;241m=\u001b[39m(\u001b[38;5;241m15\u001b[39m, \u001b[38;5;241m7\u001b[39m))\n\u001b[1;32m----> 3\u001b[0m plt\u001b[38;5;241m.\u001b[39mimshow(wc\u001b[38;5;241m.\u001b[39mgenerate_from_frequencies({ k:v \u001b[38;5;28;01mfor\u001b[39;00m k,v \u001b[38;5;129;01min\u001b[39;00m res }))\n\u001b[0;32m      4\u001b[0m plt\u001b[38;5;241m.\u001b[39mshow()\n",
      "\u001b[1;31mNameError\u001b[0m: name 'res' is not defined"
     ]
    },
    {
     "data": {
      "text/plain": [
       "<Figure size 1500x700 with 0 Axes>"
      ]
     },
     "metadata": {},
     "output_type": "display_data"
    }
   ],
   "source": [
    "wc = WordCloud(background_color='white', width=800, height=600)\n",
    "plt.figure(figsize=(15, 7))\n",
    "plt.imshow(wc.generate_from_frequencies({ k:v for k,v in res }))\n",
    "plt.show()"
   ]
  },
  {
   "cell_type": "code",
   "execution_count": null,
   "id": "71943651",
   "metadata": {},
   "outputs": [],
   "source": []
  }
 ],
 "metadata": {
  "kernelspec": {
   "display_name": "Python 3 (ipykernel)",
   "language": "python",
   "name": "python3"
  },
  "language_info": {
   "codemirror_mode": {
    "name": "ipython",
    "version": 3
   },
   "file_extension": ".py",
   "mimetype": "text/x-python",
   "name": "python",
   "nbconvert_exporter": "python",
   "pygments_lexer": "ipython3",
   "version": "3.11.4"
  }
 },
 "nbformat": 4,
 "nbformat_minor": 5
}
