{
 "cells": [
  {
   "cell_type": "code",
   "execution_count": 2,
   "id": "395019eb",
   "metadata": {
    "scrolled": true
   },
   "outputs": [
    {
     "ename": "ModuleNotFoundError",
     "evalue": "No module named 'ipynb'",
     "output_type": "error",
     "traceback": [
      "\u001b[1;31m---------------------------------------------------------------------------\u001b[0m",
      "\u001b[1;31mModuleNotFoundError\u001b[0m                       Traceback (most recent call last)",
      "Cell \u001b[1;32mIn[2], line 3\u001b[0m\n\u001b[0;32m      1\u001b[0m \u001b[38;5;28;01mimport\u001b[39;00m \u001b[38;5;21;01mtime\u001b[39;00m\n\u001b[0;32m      2\u001b[0m \u001b[38;5;28;01mimport\u001b[39;00m \u001b[38;5;21;01mdatetime\u001b[39;00m\n\u001b[1;32m----> 3\u001b[0m \u001b[38;5;28;01mimport\u001b[39;00m \u001b[38;5;21;01mjson\u001b[39;00m\u001b[38;5;241m,\u001b[39m \u001b[38;5;21;01mcsv\u001b[39;00m\u001b[38;5;241m,\u001b[39m\u001b[38;5;21;01mipynb\u001b[39;00m\n\u001b[0;32m      5\u001b[0m \u001b[38;5;28mprint\u001b[39m( datetime\u001b[38;5;241m.\u001b[39mdatetime\u001b[38;5;241m.\u001b[39mnow()\u001b[38;5;241m.\u001b[39mtime())\n\u001b[0;32m      7\u001b[0m headers \u001b[38;5;241m=\u001b[39m \u001b[38;5;28;01mTrue\u001b[39;00m\n",
      "\u001b[1;31mModuleNotFoundError\u001b[0m: No module named 'ipynb'"
     ]
    }
   ],
   "source": [
    "import time\n",
    "import datetime\n",
    "import json, csv,ipynb\n",
    "\n",
    "print( datetime.datetime.now().time())\n",
    "\n",
    "headers = True\n",
    "filein = 'file.json'\n",
    "fileout = 'file.ipynb'\n",
    "with open(filein, encoding=\"cp866\") as jsonf, open(fileout, \"w\") as csvf:\n",
    "    for line in jsonf:\n",
    "        data = json.loads(line)        \n",
    "        \n",
    "        data.pop('text')\n",
    "                     \n",
    "        if headers:\n",
    "            keys = []\n",
    "            for k, v in data.items():\n",
    "                keys.append(k)\n",
    "            \n",
    "            writer = csv.DictWriter(csvf, fieldnames=keys)\n",
    "            writer.writeheader()\n",
    "            headers = False\n",
    "        writer.writerow(data)\n",
    "    \n",
    "print( datetime.datetime.now().time())"
   ]
  },
  {
   "cell_type": "code",
   "execution_count": 3,
   "id": "7f2323ec",
   "metadata": {},
   "outputs": [],
   "source": [
    "import nbformat\n",
    "from nbformat.v4 import new_notebook, new_code_cell\n",
    "import json\n",
    "\n",
    "def convert_json_to_ipynb(json_file_path, ipynb_file_path):\n",
    "    # Read the JSON file\n",
    "    with open(json_file_path, 'r') as json_file:\n",
    "        data = json.load(json_file)\n",
    "    \n",
    "    # Create a new notebook\n",
    "    nb = new_notebook()\n",
    "\n",
    "    # Iterate over the cells in the JSON file and add them to the notebook\n",
    "    for cell in data['cells']:\n",
    "        cell_type = cell['cell_type']\n",
    "        if cell_type == 'code':\n",
    "            nb.cells.append(new_code_cell(source='\\n'.join(cell['source'])))\n",
    "\n",
    "    # Write the notebook to a .ipynb file\n",
    "    with open(ipynb_file_path, 'w') as ipynb_file:\n",
    "        nbformat.write(nb, ipynb_file)\n",
    "\n",
    "# Example usage:\n",
    "json_file_path = 'file.json'  # Path to your JSON file\n",
    "ipynb_file_path = 'file.ipynb'  # Path where you want to save the IPython Notebook file\n",
    "convert_json_to_ipynb(json_file_path, ipynb_file_path)\n"
   ]
  },
  {
   "cell_type": "code",
   "execution_count": null,
   "id": "36c5f68f",
   "metadata": {},
   "outputs": [],
   "source": []
  }
 ],
 "metadata": {
  "kernelspec": {
   "display_name": "Python 3 (ipykernel)",
   "language": "python",
   "name": "python3"
  },
  "language_info": {
   "codemirror_mode": {
    "name": "ipython",
    "version": 3
   },
   "file_extension": ".py",
   "mimetype": "text/x-python",
   "name": "python",
   "nbconvert_exporter": "python",
   "pygments_lexer": "ipython3",
   "version": "3.11.4"
  }
 },
 "nbformat": 4,
 "nbformat_minor": 5
}
